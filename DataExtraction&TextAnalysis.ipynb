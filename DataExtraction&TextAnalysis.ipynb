{
  "nbformat": 4,
  "nbformat_minor": 0,
  "metadata": {
    "colab": {
      "name": "DataExtraction&TextAnalysis.ipynb",
      "version": "0.3.2",
      "provenance": [],
      "collapsed_sections": [],
      "include_colab_link": true
    },
    "kernelspec": {
      "name": "python3",
      "display_name": "Python 3"
    }
  },
  "cells": [
    {
      "cell_type": "markdown",
      "metadata": {
        "id": "view-in-github",
        "colab_type": "text"
      },
      "source": [
        "<a href=\"https://colab.research.google.com/github/n-goyal/Data-Extraction-and-Text-Analysis/blob/master/DataExtraction&TextAnalysis.ipynb\" target=\"_parent\"><img src=\"https://colab.research.google.com/assets/colab-badge.svg\" alt=\"Open In Colab\"/></a>"
      ]
    },
    {
      "metadata": {
        "id": "HjXO7eYWiIKv",
        "colab_type": "code",
        "outputId": "9124410c-2f0b-4c6e-af19-bbce28179c3f",
        "colab": {
          "base_uri": "https://localhost:8080/",
          "height": 1062
        }
      },
      "cell_type": "code",
      "source": [
        "#drive dependencies\n",
        "!pip install xlrd\n",
        "!pip install openpyxl\n",
        "!pip install gensim\n",
        "!pip install -U -q PyDrive\n",
        "from pydrive.auth import GoogleAuth\n",
        "from pydrive.drive import GoogleDrive\n",
        "from google.colab import auth\n",
        "from oauth2client.client import GoogleCredentials\n",
        "\n",
        "#authenticate\n",
        "\n",
        "auth.authenticate_user()\n",
        "gauth = GoogleAuth()\n",
        "gauth.credentials = GoogleCredentials.get_application_default()\n",
        "drive = GoogleDrive(gauth)"
      ],
      "execution_count": 2,
      "outputs": [
        {
          "output_type": "stream",
          "text": [
            "Collecting xlrd\n",
            "\u001b[?25l  Downloading https://files.pythonhosted.org/packages/07/e6/e95c4eec6221bfd8528bcc4ea252a850bffcc4be88ebc367e23a1a84b0bb/xlrd-1.1.0-py2.py3-none-any.whl (108kB)\n",
            "\r\u001b[K    9% |███                             | 10kB 15.7MB/s eta 0:00:01\r\u001b[K    18% |██████                          | 20kB 1.6MB/s eta 0:00:01\r\u001b[K    28% |█████████                       | 30kB 1.8MB/s eta 0:00:01\r\u001b[K    37% |████████████                    | 40kB 1.6MB/s eta 0:00:01\r\u001b[K    47% |███████████████                 | 51kB 1.8MB/s eta 0:00:01\r\u001b[K    56% |██████████████████              | 61kB 2.2MB/s eta 0:00:01\r\u001b[K    65% |█████████████████████           | 71kB 2.3MB/s eta 0:00:01\r\u001b[K    75% |████████████████████████        | 81kB 2.2MB/s eta 0:00:01\r\u001b[K    84% |███████████████████████████     | 92kB 2.5MB/s eta 0:00:01\r\u001b[K    94% |██████████████████████████████  | 102kB 2.6MB/s eta 0:00:01\r\u001b[K    100% |████████████████████████████████| 112kB 2.5MB/s \n",
            "\u001b[?25hInstalling collected packages: xlrd\n",
            "Successfully installed xlrd-1.1.0\n",
            "Collecting openpyxl\n",
            "\u001b[?25l  Downloading https://files.pythonhosted.org/packages/04/18/64737cc6c5233e15374d21b4958a5600be52359e71063b4d4e7a604a1387/openpyxl-2.5.9.tar.gz (1.9MB)\n",
            "\u001b[K    100% |████████████████████████████████| 1.9MB 12.6MB/s \n",
            "\u001b[?25hCollecting jdcal (from openpyxl)\n",
            "  Downloading https://files.pythonhosted.org/packages/a0/38/dcf83532480f25284f3ef13f8ed63e03c58a65c9d3ba2a6a894ed9497207/jdcal-1.4-py2.py3-none-any.whl\n",
            "Collecting et_xmlfile (from openpyxl)\n",
            "  Downloading https://files.pythonhosted.org/packages/22/28/a99c42aea746e18382ad9fb36f64c1c1f04216f41797f2f0fa567da11388/et_xmlfile-1.0.1.tar.gz\n",
            "Building wheels for collected packages: openpyxl, et-xmlfile\n",
            "  Running setup.py bdist_wheel for openpyxl ... \u001b[?25l-\b \b\\\b \b|\b \bdone\n",
            "\u001b[?25h  Stored in directory: /root/.cache/pip/wheels/57/41/b9/3765af8bda4a8d4b6aaf4957d7214984c3332348713e85cf36\n",
            "  Running setup.py bdist_wheel for et-xmlfile ... \u001b[?25l-\b \bdone\n",
            "\u001b[?25h  Stored in directory: /root/.cache/pip/wheels/2a/77/35/0da0965a057698121fc7d8c5a7a9955cdbfb3cc4e2423cad39\n",
            "Successfully built openpyxl et-xmlfile\n",
            "Installing collected packages: jdcal, et-xmlfile, openpyxl\n",
            "Successfully installed et-xmlfile-1.0.1 jdcal-1.4 openpyxl-2.5.9\n",
            "Collecting gensim\n",
            "\u001b[?25l  Downloading https://files.pythonhosted.org/packages/27/a4/d10c0acc8528d838cda5eede0ee9c784caa598dbf40bd0911ff8d067a7eb/gensim-3.6.0-cp36-cp36m-manylinux1_x86_64.whl (23.6MB)\n",
            "\u001b[K    100% |████████████████████████████████| 23.6MB 1.3MB/s \n",
            "\u001b[?25hRequirement already satisfied: six>=1.5.0 in /usr/local/lib/python3.6/dist-packages (from gensim) (1.11.0)\n",
            "Requirement already satisfied: scipy>=0.18.1 in /usr/local/lib/python3.6/dist-packages (from gensim) (0.19.1)\n",
            "Requirement already satisfied: numpy>=1.11.3 in /usr/local/lib/python3.6/dist-packages (from gensim) (1.14.6)\n",
            "Collecting smart-open>=1.2.1 (from gensim)\n",
            "  Downloading https://files.pythonhosted.org/packages/4b/1f/6f27e3682124de63ac97a0a5876da6186de6c19410feab66c1543afab055/smart_open-1.7.1.tar.gz\n",
            "Collecting boto>=2.32 (from smart-open>=1.2.1->gensim)\n",
            "\u001b[?25l  Downloading https://files.pythonhosted.org/packages/23/10/c0b78c27298029e4454a472a1919bde20cb182dab1662cec7f2ca1dcc523/boto-2.49.0-py2.py3-none-any.whl (1.4MB)\n",
            "\u001b[K    100% |████████████████████████████████| 1.4MB 13.5MB/s \n",
            "\u001b[?25hCollecting bz2file (from smart-open>=1.2.1->gensim)\n",
            "  Downloading https://files.pythonhosted.org/packages/61/39/122222b5e85cd41c391b68a99ee296584b2a2d1d233e7ee32b4532384f2d/bz2file-0.98.tar.gz\n",
            "Requirement already satisfied: requests in /usr/local/lib/python3.6/dist-packages (from smart-open>=1.2.1->gensim) (2.18.4)\n",
            "Collecting boto3 (from smart-open>=1.2.1->gensim)\n",
            "\u001b[?25l  Downloading https://files.pythonhosted.org/packages/7a/7e/fe8faa29e771a09c528ee70e1fd9b317006021c48311ecccc78c22ebe739/boto3-1.9.37-py2.py3-none-any.whl (128kB)\n",
            "\u001b[K    100% |████████████████████████████████| 133kB 28.0MB/s \n",
            "\u001b[?25hRequirement already satisfied: chardet<3.1.0,>=3.0.2 in /usr/local/lib/python3.6/dist-packages (from requests->smart-open>=1.2.1->gensim) (3.0.4)\n",
            "Requirement already satisfied: idna<2.7,>=2.5 in /usr/local/lib/python3.6/dist-packages (from requests->smart-open>=1.2.1->gensim) (2.6)\n",
            "Requirement already satisfied: urllib3<1.23,>=1.21.1 in /usr/local/lib/python3.6/dist-packages (from requests->smart-open>=1.2.1->gensim) (1.22)\n",
            "Requirement already satisfied: certifi>=2017.4.17 in /usr/local/lib/python3.6/dist-packages (from requests->smart-open>=1.2.1->gensim) (2018.10.15)\n",
            "Collecting botocore<1.13.0,>=1.12.37 (from boto3->smart-open>=1.2.1->gensim)\n",
            "\u001b[?25l  Downloading https://files.pythonhosted.org/packages/d0/35/1461771f778b67984a75a9853a2b3ed25e65a4345e669a81b50c67c930ab/botocore-1.12.37-py2.py3-none-any.whl (4.7MB)\n",
            "\u001b[K    100% |████████████████████████████████| 4.7MB 5.7MB/s \n",
            "\u001b[?25hCollecting jmespath<1.0.0,>=0.7.1 (from boto3->smart-open>=1.2.1->gensim)\n",
            "  Downloading https://files.pythonhosted.org/packages/b7/31/05c8d001f7f87f0f07289a5fc0fc3832e9a57f2dbd4d3b0fee70e0d51365/jmespath-0.9.3-py2.py3-none-any.whl\n",
            "Collecting s3transfer<0.2.0,>=0.1.10 (from boto3->smart-open>=1.2.1->gensim)\n",
            "\u001b[?25l  Downloading https://files.pythonhosted.org/packages/d7/14/2a0004d487464d120c9fb85313a75cd3d71a7506955be458eebfe19a6b1d/s3transfer-0.1.13-py2.py3-none-any.whl (59kB)\n",
            "\u001b[K    100% |████████████████████████████████| 61kB 21.9MB/s \n",
            "\u001b[?25hCollecting docutils>=0.10 (from botocore<1.13.0,>=1.12.37->boto3->smart-open>=1.2.1->gensim)\n",
            "\u001b[?25l  Downloading https://files.pythonhosted.org/packages/36/fa/08e9e6e0e3cbd1d362c3bbee8d01d0aedb2155c4ac112b19ef3cae8eed8d/docutils-0.14-py3-none-any.whl (543kB)\n",
            "\u001b[K    100% |████████████████████████████████| 552kB 23.1MB/s \n",
            "\u001b[?25hRequirement already satisfied: python-dateutil<3.0.0,>=2.1; python_version >= \"2.7\" in /usr/local/lib/python3.6/dist-packages (from botocore<1.13.0,>=1.12.37->boto3->smart-open>=1.2.1->gensim) (2.5.3)\n",
            "Building wheels for collected packages: smart-open, bz2file\n",
            "  Running setup.py bdist_wheel for smart-open ... \u001b[?25l-\b \bdone\n",
            "\u001b[?25h  Stored in directory: /root/.cache/pip/wheels/23/00/44/e5b939f7a80c04e32297dbd6d96fa3065af89ecf57e2b5f89f\n",
            "  Running setup.py bdist_wheel for bz2file ... \u001b[?25l-\b \bdone\n",
            "\u001b[?25h  Stored in directory: /root/.cache/pip/wheels/81/75/d6/e1317bf09bf1af5a30befc2a007869fa6e1f516b8f7c591cb9\n",
            "Successfully built smart-open bz2file\n",
            "Installing collected packages: boto, bz2file, jmespath, docutils, botocore, s3transfer, boto3, smart-open, gensim\n",
            "Successfully installed boto-2.49.0 boto3-1.9.37 botocore-1.12.37 bz2file-0.98 docutils-0.14 gensim-3.6.0 jmespath-0.9.3 s3transfer-0.1.13 smart-open-1.7.1\n"
          ],
          "name": "stdout"
        }
      ]
    },
    {
      "metadata": {
        "id": "dNFoAG-J-x1h",
        "colab_type": "code",
        "colab": {}
      },
      "cell_type": "code",
      "source": [
        "# downloading data from drive\n",
        "data_excel = '15LcY9lrv5W7cX2HuUp1lhFbS4oxVN_2p'\n",
        "downloaded = drive.CreateFile({'id': data_excel})\n",
        "downloaded.GetContentFile('cik_list.xlsx')"
      ],
      "execution_count": 0,
      "outputs": []
    },
    {
      "metadata": {
        "id": "HTNE6-AiiOb8",
        "colab_type": "code",
        "colab": {}
      },
      "cell_type": "code",
      "source": [
        "# data dependencies\n",
        "import pandas as pd\n",
        "from bs4 import BeautifulSoup as bs\n",
        "import re\n",
        "import openpyxl\n",
        "import nltk\n",
        "import urllib\n",
        "import urllib.request\n",
        "import requests\n",
        "import time\n",
        "# from pattern.en import ngrams"
      ],
      "execution_count": 0,
      "outputs": []
    },
    {
      "metadata": {
        "id": "v8NQ1Pa9kFfN",
        "colab_type": "code",
        "outputId": "bb4a8003-72e0-41f8-ea8c-ee0c4e610c3e",
        "colab": {
          "base_uri": "https://localhost:8080/",
          "height": 67
        }
      },
      "cell_type": "code",
      "source": [
        "# reading data from excel sheet using pandas\n",
        "ecl = pd.read_excel('cik_list.xlsx')\n",
        "print(ecl.FORM.unique())\n",
        "quarter = ecl.loc[ecl['FORM'].isin(['10-Q','NT 10-Q','10-Q/A'])]\n",
        "year = ecl.loc[ecl['FORM'].isin(['10-K','NT 10-K','10-K/A', '10-K405/A', '10-K405'])]\n",
        "print(quarter.shape)\n",
        "print(year.shape)"
      ],
      "execution_count": 61,
      "outputs": [
        {
          "output_type": "stream",
          "text": [
            "['10-K405' '10-Q' 'NT 10-Q' '10-K/A' '10-Q/A' 'NT 10-K' '10-K' '10-K405/A']\n",
            "(110, 6)\n",
            "(42, 6)\n"
          ],
          "name": "stdout"
        }
      ]
    },
    {
      "metadata": {
        "id": "_bFLQDQqkGXA",
        "colab_type": "code",
        "outputId": "09dd88cc-1ab3-4431-b4da-f72bf64e7b03",
        "colab": {
          "base_uri": "https://localhost:8080/",
          "height": 34
        }
      },
      "cell_type": "code",
      "source": [
        "# making a url list\n",
        "url_begin = 'https://www.sec.gov/Archives/'\n",
        "url_list = []\n",
        "for i in list(ecl.SECFNAME):\n",
        "  url_list.append(url_begin + i)\n",
        "len(url_list)"
      ],
      "execution_count": 6,
      "outputs": [
        {
          "output_type": "execute_result",
          "data": {
            "text/plain": [
              "152"
            ]
          },
          "metadata": {
            "tags": []
          },
          "execution_count": 6
        }
      ]
    },
    {
      "metadata": {
        "id": "rRLpFM0_veu8",
        "colab_type": "code",
        "colab": {}
      },
      "cell_type": "code",
      "source": [
        "# beautiful soup function for text extraction from web pages:\n",
        "headers = {'User-Agent': 'Mozilla/5.0 (X11; Ubuntu; Linux x86_64; rv:52.0) Gecko/20100101 Firefox/52.0'}\n",
        "def extraction(url):\n",
        "  search = url\n",
        "  home_page = requests.get(search,headers=headers)\n",
        "  home_content = home_page.content\n",
        "  soup = bs(home_content, 'html.parser')\n",
        "  file = soup.text\n",
        "  return file"
      ],
      "execution_count": 0,
      "outputs": []
    },
    {
      "metadata": {
        "id": "isCbC9MONzQh",
        "colab_type": "code",
        "colab": {}
      },
      "cell_type": "code",
      "source": [
        "file=[]\n",
        "for i in url_list:\n",
        "  text = extraction(i)\n",
        "  file.append(text)"
      ],
      "execution_count": 0,
      "outputs": []
    },
    {
      "metadata": {
        "id": "MXjcmrzHOLPr",
        "colab_type": "code",
        "colab": {}
      },
      "cell_type": "code",
      "source": [
        "# making a new dataframe with complete url and extracted text for easy navigation:\n",
        "\n",
        "data = pd.DataFrame(columns=['Data', 'URL', 'SECFNAME'])\n",
        "data.Data = file\n",
        "data.URL = url_list\n",
        "data.SECFNAME = ecl.SECFNAME"
      ],
      "execution_count": 0,
      "outputs": []
    },
    {
      "metadata": {
        "id": "MBBat4abbBoD",
        "colab_type": "code",
        "colab": {
          "base_uri": "https://localhost:8080/",
          "height": 568
        },
        "outputId": "f8dad5f8-5f08-48f6-ed83-ef52a2407bde"
      },
      "cell_type": "code",
      "source": [
        ""
      ],
      "execution_count": 17,
      "outputs": [
        {
          "output_type": "stream",
          "text": [
            "(152, 3)\n"
          ],
          "name": "stdout"
        },
        {
          "output_type": "execute_result",
          "data": {
            "text/html": [
              "<div>\n",
              "<style scoped>\n",
              "    .dataframe tbody tr th:only-of-type {\n",
              "        vertical-align: middle;\n",
              "    }\n",
              "\n",
              "    .dataframe tbody tr th {\n",
              "        vertical-align: top;\n",
              "    }\n",
              "\n",
              "    .dataframe thead th {\n",
              "        text-align: right;\n",
              "    }\n",
              "</style>\n",
              "<table border=\"1\" class=\"dataframe\">\n",
              "  <thead>\n",
              "    <tr style=\"text-align: right;\">\n",
              "      <th></th>\n",
              "      <th>Data</th>\n",
              "      <th>URL</th>\n",
              "      <th>SECFNAME</th>\n",
              "    </tr>\n",
              "  </thead>\n",
              "  <tbody>\n",
              "    <tr>\n",
              "      <th>0</th>\n",
              "      <td>-----BEGIN PRIVACY-ENHANCED MESSAGE-----\\nProc...</td>\n",
              "      <td>https://www.sec.gov/Archives/edgar/data/3662/0...</td>\n",
              "      <td>edgar/data/3662/0000950170-98-000413.txt</td>\n",
              "    </tr>\n",
              "    <tr>\n",
              "      <th>1</th>\n",
              "      <td>-----BEGIN PRIVACY-ENHANCED MESSAGE-----\\nProc...</td>\n",
              "      <td>https://www.sec.gov/Archives/edgar/data/3662/0...</td>\n",
              "      <td>edgar/data/3662/0000950170-98-001001.txt</td>\n",
              "    </tr>\n",
              "    <tr>\n",
              "      <th>2</th>\n",
              "      <td>-----BEGIN PRIVACY-ENHANCED MESSAGE-----\\nProc...</td>\n",
              "      <td>https://www.sec.gov/Archives/edgar/data/3662/0...</td>\n",
              "      <td>edgar/data/3662/0000950172-98-000783.txt</td>\n",
              "    </tr>\n",
              "    <tr>\n",
              "      <th>3</th>\n",
              "      <td>-----BEGIN PRIVACY-ENHANCED MESSAGE-----\\nProc...</td>\n",
              "      <td>https://www.sec.gov/Archives/edgar/data/3662/0...</td>\n",
              "      <td>edgar/data/3662/0000950170-98-002145.txt</td>\n",
              "    </tr>\n",
              "    <tr>\n",
              "      <th>4</th>\n",
              "      <td>-----BEGIN PRIVACY-ENHANCED MESSAGE-----\\nProc...</td>\n",
              "      <td>https://www.sec.gov/Archives/edgar/data/3662/0...</td>\n",
              "      <td>edgar/data/3662/0000950172-98-001203.txt</td>\n",
              "    </tr>\n",
              "  </tbody>\n",
              "</table>\n",
              "</div>"
            ],
            "text/plain": [
              "                                                Data  \\\n",
              "0  -----BEGIN PRIVACY-ENHANCED MESSAGE-----\\nProc...   \n",
              "1  -----BEGIN PRIVACY-ENHANCED MESSAGE-----\\nProc...   \n",
              "2  -----BEGIN PRIVACY-ENHANCED MESSAGE-----\\nProc...   \n",
              "3  -----BEGIN PRIVACY-ENHANCED MESSAGE-----\\nProc...   \n",
              "4  -----BEGIN PRIVACY-ENHANCED MESSAGE-----\\nProc...   \n",
              "\n",
              "                                                 URL  \\\n",
              "0  https://www.sec.gov/Archives/edgar/data/3662/0...   \n",
              "1  https://www.sec.gov/Archives/edgar/data/3662/0...   \n",
              "2  https://www.sec.gov/Archives/edgar/data/3662/0...   \n",
              "3  https://www.sec.gov/Archives/edgar/data/3662/0...   \n",
              "4  https://www.sec.gov/Archives/edgar/data/3662/0...   \n",
              "\n",
              "                                   SECFNAME  \n",
              "0  edgar/data/3662/0000950170-98-000413.txt  \n",
              "1  edgar/data/3662/0000950170-98-001001.txt  \n",
              "2  edgar/data/3662/0000950172-98-000783.txt  \n",
              "3  edgar/data/3662/0000950170-98-002145.txt  \n",
              "4  edgar/data/3662/0000950172-98-001203.txt  "
            ]
          },
          "metadata": {
            "tags": []
          },
          "execution_count": 17
        }
      ]
    },
    {
      "metadata": {
        "id": "7-jY4yTVc3i8",
        "colab_type": "code",
        "colab": {
          "base_uri": "https://localhost:8080/",
          "height": 50
        },
        "outputId": "2a9168dc-2728-465c-f1a3-f10321fb7f58"
      },
      "cell_type": "code",
      "source": [
        "# observation purpose\n",
        "print(data.URL[94])\n",
        "print(data.URL[149])"
      ],
      "execution_count": 53,
      "outputs": [
        {
          "output_type": "stream",
          "text": [
            "https://www.sec.gov/Archives/edgar/data/6071/0000006071-00-000002.txt\n",
            "https://www.sec.gov/Archives/edgar/data/12239/0001104659-07-041441.txt\n"
          ],
          "name": "stdout"
        }
      ]
    },
    {
      "metadata": {
        "id": "HM2SCn3QXyua",
        "colab_type": "code",
        "colab": {}
      },
      "cell_type": "code",
      "source": [
        "# making a dataframe to extract required sectional data:\n",
        "\n",
        "section_data = pd.DataFrame(columns = ['MDA', 'QAQD', 'RFA'])\n",
        "MDA = []\n",
        "QAQD = []\n",
        "RFA = []"
      ],
      "execution_count": 0,
      "outputs": []
    },
    {
      "metadata": {
        "id": "Fma6yKOs9K-T",
        "colab_type": "code",
        "colab": {}
      },
      "cell_type": "code",
      "source": [
        "# function for clearing the HTML tags from the text for easy data extraction:\n",
        "\n",
        "def cleanhtml(raw_html):\n",
        "  cleantext = re.sub('(?s)<[^>]*>', '', raw_html)\n",
        "  return cleantext\n",
        "\n",
        "clean_files = []\n",
        "for i in data.Data:\n",
        "  clean_files.append(cleanhtml(i))"
      ],
      "execution_count": 0,
      "outputs": []
    },
    {
      "metadata": {
        "id": "jee8wA2wdSfb",
        "colab_type": "code",
        "colab": {}
      },
      "cell_type": "code",
      "source": [
        "# apply function based on form type of the report\n",
        "\n",
        "for i in data.Data:\n",
        "  CONFORMED SUBMISSION TYPE = re.compile(r\"CONFORMED SUBMISSION TYPE)\n",
        "  if CONFORMED SUBMISSION TYPE == '10-K':\n",
        "    extraction_10K(file)\n",
        "  else:\n",
        "    extraction_10Q(file)"
      ],
      "execution_count": 0,
      "outputs": []
    },
    {
      "metadata": {
        "id": "rfgJGvY0YPE2",
        "colab_type": "code",
        "colab": {}
      },
      "cell_type": "code",
      "source": [
        "# section extraction from file for further text analysis of the report:\n",
        "\n",
        "def extraction_10K(file):\n",
        "  patternMDA = re.compile(r\"(?s)Item 7[^A].*?Item 7\")\n",
        "  if patternMDA.search(file) != None:\n",
        "    MDA = patternMDA.search(file).group()\n",
        "  else:\n",
        "    MDA = None\n",
        "  patternQAQD = re.compile(r\"(?s)Item 7A.*?Item 8\")\n",
        "  if patternQAQD.search(file) != None:\n",
        "    QAQD = patternQAQD.search(file).group()\n",
        "  else:\n",
        "    QAQD = None\n",
        "  patternRFA = re.compile(r\"(?s)Item 1A.*?Item 1B\")\n",
        "  if patternRFA.search(file) != None:\n",
        "    RFA = patternRFA.search(file).group()\n",
        "  else:\n",
        "    RFA = None\n",
        "  return MDA,QAQD,RFA\n",
        "\n",
        "def extraction_10_Q(file):\n",
        "  "
      ],
      "execution_count": 0,
      "outputs": []
    },
    {
      "metadata": {
        "id": "kb_9VDkbyB-X",
        "colab_type": "code",
        "colab": {
          "base_uri": "https://localhost:8080/",
          "height": 34
        },
        "outputId": "1f99831d-ea52-41fa-b8c7-f3793b828d9e"
      },
      "cell_type": "code",
      "source": [
        "# search for form type section in the file to extract and \n",
        "# check the form type of the form:\n",
        "\n",
        "Type = re.compile(\"CONFORMED SUBMISSION TYPE:.*\")\n",
        "z = Type.search(data.Data[150]).group()\n",
        "z"
      ],
      "execution_count": 43,
      "outputs": [
        {
          "output_type": "execute_result",
          "data": {
            "text/plain": [
              "'CONFORMED SUBMISSION TYPE:\\t10-K/A'"
            ]
          },
          "metadata": {
            "tags": []
          },
          "execution_count": 43
        }
      ]
    },
    {
      "metadata": {
        "id": "43kn8yNaqVHv",
        "colab_type": "code",
        "colab": {
          "base_uri": "https://localhost:8080/",
          "height": 34
        },
        "outputId": "3a4dcbca-bbb0-4ebf-815b-47285b89f964"
      },
      "cell_type": "code",
      "source": [
        "# check form type of the report for further extraction:\n",
        "res = z.split('\\t').pop();\n",
        "res\n",
        "\n",
        "# compare with available types:\n",
        "if res == '10-Q':\n",
        "  print('true')\n",
        "else:\n",
        "  print('false')"
      ],
      "execution_count": 52,
      "outputs": [
        {
          "output_type": "stream",
          "text": [
            "false\n"
          ],
          "name": "stdout"
        }
      ]
    },
    {
      "metadata": {
        "id": "Hfu4B9Dys0yr",
        "colab_type": "code",
        "colab": {}
      },
      "cell_type": "code",
      "source": [
        "# clean HTML tags from files:\n",
        "file = data.Data[149]\n",
        "clean = re.sub('(?s)<[^>]*>', '', file)\n",
        "# print(clean)"
      ],
      "execution_count": 0,
      "outputs": []
    },
    {
      "metadata": {
        "id": "xYil5MqTcv56",
        "colab_type": "code",
        "colab": {}
      },
      "cell_type": "code",
      "source": [
        "for i in data.data:\n",
        "  MDA.append(extraction_10_K(i)[0])\n",
        "  QAQD.append(extraction_10_K(i)[1])\n",
        "  RFA.append(extraction_10_K(i)[2])"
      ],
      "execution_count": 0,
      "outputs": []
    },
    {
      "metadata": {
        "id": "bPx8qdpA0b8D",
        "colab_type": "code",
        "colab": {}
      },
      "cell_type": "code",
      "source": [
        "section_data.MDA = MDA\n",
        "section_data.QAQD = QAQD\n",
        "section_data.RFA = RFA"
      ],
      "execution_count": 0,
      "outputs": []
    }
  ]
}